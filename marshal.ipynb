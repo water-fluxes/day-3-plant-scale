{
 "cells": [
  {
   "cell_type": "code",
   "execution_count": null,
   "id": "58eb706f-405c-49a4-80fe-e2f442f0befa",
   "metadata": {},
   "outputs": [],
   "source": [
    "########################################################################\n",
    "# 1 : LOAD THE LIBRARIES AND SOURCE FILES\n",
    "########################################################################\n",
    "\n",
    "#library(tidyverse)\n",
    "library(ggplot2)\n",
    "library(plyr)\n",
    "library(readr)\n",
    "library(data.table)\n",
    "library(dplyr)\n",
    "library(Matrix)\n",
    "\n",
    "\n",
    "\n",
    "# Custom functions\n",
    "source(\"inputs/io_function.R\") # CROOTBOX\n",
    "source(\"inputs/getSUF.R\") # MARSHAL\n"
   ]
  },
  {
   "cell_type": "code",
   "execution_count": null,
   "id": "c68e76d2-5ef2-48b4-a364-4e1528485077",
   "metadata": {},
   "outputs": [],
   "source": [
    "# MARSHAL PARAMETERS\n",
    "\n",
    "# E. We load the default parameter sets for the simulation \n",
    "psiCollar <- -15000\n",
    "soil <- read_csv(\"inputs/soil.csv\")\n",
    "conductivities <- read_csv(\"inputs/conductivities.csv\")"
   ]
  },
  {
   "cell_type": "code",
   "execution_count": null,
   "id": "cf33091e-ba40-44d3-8e62-3ac1d44419bf",
   "metadata": {},
   "outputs": [],
   "source": [
    "# Root system\n",
    "\n",
    "rootsystem <- fread(\"outputs/first_example.txt\", header = T)\n",
    "\n",
    "rootsystem %>%\n",
    "  ggplot() +\n",
    "  theme_classic() +\n",
    "  geom_segment(aes(x = x1, y = z1, xend = x2, yend = z2), alpha=0.9) +\n",
    "  coord_fixed()"
   ]
  },
  {
   "cell_type": "code",
   "execution_count": null,
   "id": "1b0fd638-586f-49a9-b959-7121343c36ed",
   "metadata": {},
   "outputs": [],
   "source": [
    "########################################################################\n",
    "# 4 : RUN MARSHAL\n",
    "########################################################################\n",
    "# We loop over the input parameters vectors (see 2.D)\n",
    "\n",
    "# Load the root system data you would like to use with marshal. \n",
    "# It is also possible to loop over a list of root systems is needed\n",
    "      \n",
    "# Run MARSHAL\n",
    "hydraulics <- getSUF(rootsystem, conductivities, soil, psiCollar)"
   ]
  },
  {
   "cell_type": "code",
   "execution_count": null,
   "id": "2313fb2e-5d8a-4738-81fd-5ce187487233",
   "metadata": {},
   "outputs": [],
   "source": [
    "\n",
    "hydraulic_archi <- hydraulics$root_system\n",
    "hydraulic_archi$suf <- hydraulics$suf[,1]\n",
    "hydraulic_archi$kr <- hydraulics$kr[,1]\n",
    "hydraulic_archi$kx <- hydraulics$kx[,1]\n",
    "hydraulic_archi$jr <- hydraulics$jr[,1]\n",
    "hydraulic_archi$jxl <- hydraulics$jxl[,1]\n",
    "hydraulic_archi$psi <- hydraulics$psi[,1]\n",
    "\n",
    "\n",
    "print(paste0(\"KRS = \",hydraulics$krs))\n",
    "print(paste0(\"Potential transpiration = \",hydraulics$tpot))\n",
    "print(paste0(\"Actual transpiration = \",hydraulics$tact))\n"
   ]
  },
  {
   "cell_type": "code",
   "execution_count": null,
   "id": "9292221c-8a07-48ca-bd91-e679b14a28ff",
   "metadata": {},
   "outputs": [],
   "source": [
    "hydraulic_archi %>%\n",
    "  ggplot() +\n",
    "  theme_classic() +\n",
    "  geom_segment(aes(x = x1, y = z1, xend = x2, yend = z2, col = psi), alpha=0.9) +\n",
    "  scale_color_viridis_c() + \n",
    "  coord_fixed()\n"
   ]
  },
  {
   "cell_type": "code",
   "execution_count": null,
   "id": "543da77d-dbba-4fda-92e6-d05adb6b50ba",
   "metadata": {},
   "outputs": [],
   "source": [
    "\n",
    "temp <- hydraulic_archi\n",
    "temp$z1 <- round(temp$z1, 0)\n",
    "temp$type <- factor(temp$type)\n",
    "\n",
    "dens <- ddply(temp, .(z1, type), summarise, root = sum(suf))\n",
    "yl <- \"standart uptake fraction\"\n",
    "\n",
    "dens2 <- ddply(dens, .(z1), summarise, root = sum(root))\n",
    "max <- dens2$z1[dens2$root == max(dens2$root)]\n",
    "\n",
    "ggplot(data = dens, aes(x = z1, y = root, colour=type)) +\n",
    "    theme_classic() +\n",
    "    geom_line(data = dens, aes(x = z1, y = root, colour=type), alpha=0.5) +\n",
    "    geom_vline(xintercept = max, lty=2) +\n",
    "    stat_smooth(se=FALSE) +\n",
    "    coord_flip() +\n",
    "    xlab(\"depth (cm)\") +\n",
    "    ylab(yl)"
   ]
  },
  {
   "cell_type": "code",
   "execution_count": null,
   "id": "6edd327c-4c97-4036-ba04-7b6d6649abbb",
   "metadata": {},
   "outputs": [],
   "source": []
  }
 ],
 "metadata": {
  "kernelspec": {
   "display_name": "R",
   "language": "R",
   "name": "ir"
  },
  "language_info": {
   "codemirror_mode": "r",
   "file_extension": ".r",
   "mimetype": "text/x-r-source",
   "name": "R",
   "pygments_lexer": "r",
   "version": "4.1.3"
  }
 },
 "nbformat": 4,
 "nbformat_minor": 5
}
