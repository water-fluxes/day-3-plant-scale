{
 "cells": [
  {
   "cell_type": "code",
   "execution_count": null,
   "id": "69af073e-6dab-4638-a508-1b7aa87af3d9",
   "metadata": {},
   "outputs": [],
   "source": [
    "setwd(\"inputs/crootbox_source\")\n",
    "system(\"g++ *.cpp -std=c++11 -o crootbox.out\")"
   ]
  },
  {
   "cell_type": "code",
   "execution_count": null,
   "id": "58eb706f-405c-49a4-80fe-e2f442f0befa",
   "metadata": {},
   "outputs": [],
   "source": [
    "########################################################################\n",
    "# 1 : LOAD THE LIBRARIES AND SOURCE FILES\n",
    "########################################################################\n",
    "\n",
    "library(tidyverse)\n",
    "library(plyr)\n",
    "library(readr)\n",
    "library(data.table)\n",
    "library(dplyr)\n",
    "library(Matrix)\n",
    "\n",
    "\n",
    "\n",
    "# Custom functions\n",
    "source(\"inputs/io_function.R\") # CROOTBOX\n",
    "source(\"inputs/getSUF.R\") # MARSHAL\n",
    "\n",
    "# Update the crootbox executable file\n",
    "# MAC\n",
    "file.copy(\"inputs/crootbox_source/crootbox.out\", \n",
    "          \"inputs/crootbox.out\", \n",
    "          overwrite = T)"
   ]
  },
  {
   "cell_type": "code",
   "execution_count": null,
   "id": "cc58a987-fc04-4379-8463-f6f99cdea629",
   "metadata": {},
   "outputs": [],
   "source": [
    "# CROOTBOX PARAMETERS\n",
    "# B. We load the default parameter sets for the simulation \n",
    "rparam <- read_rparam(path = \"inputs/param.rparam\")\n",
    "pparam <- read_pparam(path = \"inputs/param.pparam\")"
   ]
  },
  {
   "cell_type": "code",
   "execution_count": null,
   "id": "c68e76d2-5ef2-48b4-a364-4e1528485077",
   "metadata": {},
   "outputs": [],
   "source": [
    "# MARSHAL PARAMETERS\n",
    "\n",
    "# D. We store the input parameters we want to change in vectors, so \n",
    "# we can loop on these afterwards\n",
    "kx_vec <-c(1, 10, 100, 0.1, 0.01)\n",
    "kr_vec <- c(1, 10, 100, 0.1, 0.01)\n",
    "\n",
    "# E. We load the default parameter sets for the simulation \n",
    "psiCollar <- -15000\n",
    "soil <- read_csv(\"inputs/soil.csv\")\n",
    "conductivities <- read_csv(\"inputs/conductivities.csv\")"
   ]
  },
  {
   "cell_type": "code",
   "execution_count": null,
   "id": "d8c367c8-37a6-4664-8ae4-4777ee809bde",
   "metadata": {},
   "outputs": [],
   "source": [
    "########################################################################\n",
    "# 3 : RUN CROOTBOX\n",
    "########################################################################\n",
    "\n",
    "    \n",
    "    # Modify parmeters\n",
    "    \n",
    "    # update \"vitesse croissance primaire\"\n",
    "    rparam$val1[rparam$name == \"Taproot\" & rparam$param == \"r\"] <- 2 \n",
    "    \n",
    "    # update the simulation time\n",
    "    pparam$val1[pparam$param == \"simtime\"] <- 15\n",
    "  \n",
    "    # update the input text files \n",
    "    write_rparam(rparam, \"inputs/param.rparam\")\n",
    "    write_pparam(pparam, \"inputs/param.pparam\")\n",
    "    \n",
    "    # Run crootbox\n",
    "    system(\"inputs/crootbox.out\") # Run crootbox for mac and linux\n",
    "    # system(\"inputs/crootbox.exe\") # Run crootbox for windows\n",
    "    \n",
    "    # Load the simulated data into R to process it and to store it for further use\n",
    "    current_rootsystem <- fread(\"outputs/current_rootsystem.txt\", header = T)"
   ]
  },
  {
   "cell_type": "code",
   "execution_count": null,
   "id": "cf33091e-ba40-44d3-8e62-3ac1d44419bf",
   "metadata": {},
   "outputs": [],
   "source": [
    "# Root system\n",
    "current_rootsystem %>%\n",
    "  ggplot() +\n",
    "  theme_classic() +\n",
    "  geom_segment(aes(x = x1, y = z1, xend = x2, yend = z2), alpha=0.9) +\n",
    "  coord_fixed()"
   ]
  },
  {
   "cell_type": "code",
   "execution_count": null,
   "id": "1b0fd638-586f-49a9-b959-7121343c36ed",
   "metadata": {},
   "outputs": [],
   "source": [
    "########################################################################\n",
    "# 4 : RUN MARSHAL\n",
    "########################################################################\n",
    "# We loop over the input parameters vectors (see 2.D)\n",
    "\n",
    "# Load the root system data you would like to use with marshal. \n",
    "# It is also possible to loop over a list of root systems is needed\n",
    "rootsystem <- current_rootsystem\n",
    "      \n",
    "# Run MARSHAL\n",
    "hydraulics <- getSUF(rootsystem, conds, soil, psiCollar)\n",
    "\n",
    "hydraulic_archi <- hydraulics$root_system\n",
    "hydraulic_archi$suf <- hydraulics$suf[,1]\n",
    "hydraulic_archi$kr <- hydraulics$kr[,1]\n",
    "hydraulic_archi$kx <- hydraulics$kx[,1]\n",
    "hydraulic_archi$jr <- hydraulics$jr[,1]\n",
    "hydraulic_archi$jxl <- hydraulics$jxl[,1]\n",
    "hydraulic_archi$psi <- hydraulics$psi[,1]\n",
    "\n",
    "\n",
    "\n",
    "# Save all the results of the simulation\n",
    "save(hydraulic_archi, file = paste0(\"outputs/marshal/hydraulics_\",kx_in,\"_\",kr_in,\".RData\"))"
   ]
  }
 ],
 "metadata": {
  "kernelspec": {
   "display_name": "R",
   "language": "R",
   "name": "ir"
  },
  "language_info": {
   "codemirror_mode": "r",
   "file_extension": ".r",
   "mimetype": "text/x-r-source",
   "name": "R",
   "pygments_lexer": "r",
   "version": "4.1.3"
  }
 },
 "nbformat": 4,
 "nbformat_minor": 5
}
